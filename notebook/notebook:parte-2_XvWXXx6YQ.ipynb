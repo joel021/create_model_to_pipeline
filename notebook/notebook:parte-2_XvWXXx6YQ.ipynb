{
 "cells": [
  {
   "cell_type": "markdown",
   "metadata": {
    "collapsed": true
   },
   "source": [
    "# MARATONA BEHIND THE CODE 2020\n",
    "\n",
    "## DESAFIO 2: PARTE 2"
   ]
  },
  {
   "cell_type": "markdown",
   "metadata": {},
   "source": [
    "### Introdução"
   ]
  },
  {
   "cell_type": "markdown",
   "metadata": {},
   "source": [
    "Na parte 1 deste desafio, você realizou o pré-processamento e o treinamento de um modelo a partir de um conjunto de dados base fornecido. Nesta segunda etapa você irá integrar todas as transformações e eventos de treinamento criados anteriormente em uma Pipeline completa para *deploy* no **Watson Machine Learning**!"
   ]
  },
  {
   "cell_type": "markdown",
   "metadata": {},
   "source": [
    "<hr>"
   ]
  },
  {
   "cell_type": "markdown",
   "metadata": {},
   "source": [
    "### Preparação do Notebook"
   ]
  },
  {
   "cell_type": "markdown",
   "metadata": {},
   "source": [
    "Primeiro realizaremos a instalação do scikit-learn e a importação das mesmas bibliotecas utilizadas anteriormente"
   ]
  },
  {
   "cell_type": "code",
   "execution_count": 1,
   "metadata": {},
   "outputs": [
    {
     "name": "stdout",
     "output_type": "stream",
     "text": [
      "Defaulting to user installation because normal site-packages is not writeable\n",
      "Collecting scikit-learn==0.20.3\n",
      "  Downloading scikit_learn-0.20.3-cp36-cp36m-manylinux1_x86_64.whl (5.4 MB)\n",
      "\u001b[K     |████▊                           | 788 kB 183 kB/s eta 0:00:25^C\n",
      "\n",
      "\u001b[31mERROR: Operation cancelled by user\u001b[0m\n",
      "\u001b[?25hDefaulting to user installation because normal site-packages is not writeable\n",
      "Collecting xgboost==0.71\n",
      "  Downloading xgboost-0.71.tar.gz (494 kB)\n",
      "\u001b[K     |████████████████████████████████| 494 kB 282 kB/s eta 0:00:01\n",
      "^C\n",
      "\u001b[31mERROR: Operation cancelled by user\u001b[0m\n",
      "\u001b[?25h"
     ]
    }
   ],
   "source": [
    "# Primeiro, realizamos a instalação do scikit-learn versão 0.20.3 e do xgboost versão 0.71 no Kernel deste notebook\n",
    "# ** CUIDADO AO TROCAR A VERSÃO DAS BIBLIOTECAS -- VERSÕES DIFERENTES PODEM SER INCOMPATÍVEIS COM O WATSON STUDIO **\n",
    "# OBS: A instalação do xgboost leva um tempo considerável\n",
    "!pip install scikit-learn==0.20.3 --upgrade\n",
    "!pip install xgboost==0.71 --upgrade"
   ]
  },
  {
   "cell_type": "code",
   "execution_count": 1,
   "metadata": {},
   "outputs": [],
   "source": [
    "import json\n",
    "import requests\n",
    "import pandas as pd\n",
    "import numpy as np\n",
    "import xgboost as xgb\n",
    "from sklearn.model_selection import train_test_split\n",
    "from sklearn.pipeline import Pipeline\n",
    "from sklearn.model_selection import KFold, cross_validate"
   ]
  },
  {
   "cell_type": "markdown",
   "metadata": {},
   "source": [
    "É necessário inserir o conjunto de dados base novamente como um dataframe pandas, seguindo as instruções\n",
    "\n",
    "![alt text](https://i.imgur.com/K1DwL9I.png \"importing-csv-as-df\")\n",
    "\n",
    "Após a seleção da opção **\"Insert to code\"**, a célula abaixo será preenchida com o código necessário para importação e leitura dos dados no arquivo .csv como um DataFrame Pandas."
   ]
  },
  {
   "cell_type": "code",
   "execution_count": null,
   "metadata": {},
   "outputs": [],
   "source": [
    "\n",
    "<< INSIRA O DATASET COMO UM PANDAS DATAFRAME NESTA CÉLULA! >>>\n"
   ]
  },
  {
   "cell_type": "code",
   "execution_count": 2,
   "metadata": {},
   "outputs": [],
   "source": [
    "df_data_1 = pd.read_csv(\"../data_asset/dataset_desafio_2.csv\")"
   ]
  },
  {
   "cell_type": "markdown",
   "metadata": {},
   "source": [
    "### Construção da Pipeline completa para encapsulamento no WML"
   ]
  },
  {
   "cell_type": "code",
   "execution_count": null,
   "metadata": {},
   "outputs": [],
   "source": []
  },
  {
   "cell_type": "markdown",
   "metadata": {},
   "source": [
    "#### Preparando transformações personalizadas para carregamento no WML"
   ]
  },
  {
   "cell_type": "markdown",
   "metadata": {},
   "source": [
    "Na etapa anterior, foi mostrado como criar uma transformação personalizada, através da declaração de uma classe Python com os métodos ``fit`` e ``transform``.\n",
    "\n",
    "    - Código da transformação personalizada DropColumns():\n",
    "    \n",
    "    from sklearn.base import BaseEstimator, TransformerMixin\n",
    "    # All sklearn Transforms must have the `transform` and `fit` methods\n",
    "    class DropColumns(BaseEstimator, TransformerMixin):\n",
    "        def __init__(self, columns):\n",
    "            self.columns = columns\n",
    "        def fit(self, X, y=None):\n",
    "            return self\n",
    "        def transform(self, X):\n",
    "            # Primeiro realizamos a cópia do dataframe 'X' de entrada\n",
    "            data = X.copy()\n",
    "            # Retornamos um novo dataframe sem as colunas indesejadas\n",
    "            return data.drop(labels=self.columns, axis='columns')\n",
    "\n",
    "Para integrar esses tipos de transformações personalizadas nas Pipelines do Watson Machine Learning, é necessário primeiramente empacotar seu código personalizado como uma biblioteca Python. Isso pode ser feito facilmente com o uso da ferramenta *setuptools*.\n",
    "\n",
    "No seguinte repositório git: https://github.com/vnderlev/sklearn_transforms temos todos os arquivos necessários para a criação de um pacote Python, nomeado **my_custom_sklearn_transforms**.\n",
    "Esse pacote possui a seguinte estrutura de arquivos:\n",
    "\n",
    "    /my_custom_sklearn_transforms.egg-info\n",
    "        dependency_links.txt\n",
    "        not-zip-safe\n",
    "        PKG-INFO\n",
    "        SOURCES.txt\n",
    "        top_level.txt\n",
    "    /my_custom_sklearn_transforms\n",
    "        __init__.py\n",
    "        sklearn_transformers.py\n",
    "    PKG-INFO\n",
    "    README.md\n",
    "    setup.cfg\n",
    "    setup.py\n",
    "    \n",
    "O arquivo principal, que irá conter o código das nossas transformadas personalizadas, é o arquivo **/my_custom_sklearn_transforms/sklearn_transformers.py**. Se você acessá-lo no repositório, irá notar que ele contém exatamente o mesmo código declarado na primeira etapa (a classe DropColumns).\n",
    "\n",
    "Caso você tenha declarado transformações próprias (além da DropColumn fornecida), você deverá adicionar todas as classes dessas transformadas criadas por você nesse mesmo arquivo. Para tal, você deve realizar o fork desse repositório (isso pode ser feito na própria interface Web do Github, clicando no botão conforme a imagem abaixo), e adicionar suas classes personalizadas no arquivo **sklearn_transformers.py**.\n",
    "\n",
    "![alt text](https://i.imgur.com/D81E1uM.png \"forking-a-repo\")\n",
    "\n",
    "Se você somente fez o uso da transformação fornecida (DropColumns), pode ignorar essa etapa de fork, e seguir utilizando o pacote base fornecido! :)\n",
    "\n",
    "Após a preparação do seu pacote Python com as suas transformadas personalizadas, substitua o link do repositório git na célula abaixo e execute-a. Caso você não tenha preparado nenhuma nova transformada, execute a célula com o link do repositório já fornecido. \n",
    "\n",
    "<hr>\n",
    "    \n",
    "**OBSERVAÇÃO**\n",
    "\n",
    "Caso a execução da célula abaixo retorne um erro de que o repositório já existe, execute:\n",
    "\n",
    "**!rm -r -f sklearn_transforms**"
   ]
  },
  {
   "cell_type": "code",
   "execution_count": 31,
   "metadata": {},
   "outputs": [
    {
     "name": "stdout",
     "output_type": "stream",
     "text": [
      "Cloning into 'create_model_to_pipeline'...\n",
      "remote: Enumerating objects: 31, done.\u001b[K\n",
      "remote: Counting objects: 100% (31/31), done.\u001b[K\n",
      "remote: Compressing objects: 100% (21/21), done.\u001b[K\n",
      "remote: Total 146 (delta 18), reused 19 (delta 10), pack-reused 115\u001b[K\n",
      "Receiving objects: 100% (146/146), 22.06 KiB | 1.84 MiB/s, done.\n",
      "Resolving deltas: 100% (80/80), done.\n"
     ]
    }
   ],
   "source": [
    "# substitua o link abaixo pelo link do seu repositório git (se for o caso)\n",
    "!git clone https://github.com/joel021/create_model_to_pipeline.git"
   ]
  },
  {
   "cell_type": "code",
   "execution_count": 32,
   "metadata": {},
   "outputs": [
    {
     "name": "stdout",
     "output_type": "stream",
     "text": [
      "total 240\r\n",
      "-rw-r--r-- 1 joel joel  27701 ago 23 11:49 notebook:parte-1_XTm42MgVg.ipynb\r\n",
      "-rw-r--r-- 1 joel joel 210830 ago 23 15:31 notebook:parte-2_XvWXXx6YQ.ipynb\r\n",
      "drwxr-xr-x 6 joel joel   4096 ago 23 15:32 create_model_to_pipeline\r\n"
     ]
    }
   ],
   "source": [
    "!cd create_model_to_pipeline\n",
    "!ls -ltr"
   ]
  },
  {
   "cell_type": "markdown",
   "metadata": {},
   "source": [
    "Para subir o código no WML, precisamos enviar um arquivo .zip com todo o código fonte, então iremos zipar o diretório clonado em seguida:"
   ]
  },
  {
   "cell_type": "code",
   "execution_count": 33,
   "metadata": {
    "scrolled": false
   },
   "outputs": [
    {
     "name": "stdout",
     "output_type": "stream",
     "text": [
      "  adding: create_model_to_pipeline/ (stored 0%)\r\n",
      "  adding: create_model_to_pipeline/PKG-INFO (deflated 31%)\r\n",
      "  adding: create_model_to_pipeline/my_custom_model.egg-info/ (stored 0%)\r\n",
      "  adding: create_model_to_pipeline/my_custom_model.egg-info/dependency_links.txt (stored 0%)\r\n",
      "  adding: create_model_to_pipeline/my_custom_model.egg-info/SOURCES.txt (deflated 48%)\r\n",
      "  adding: create_model_to_pipeline/my_custom_model.egg-info/PKG-INFO (deflated 32%)\r\n",
      "  adding: create_model_to_pipeline/my_custom_model.egg-info/not-zip-safe (stored 0%)\r\n",
      "  adding: create_model_to_pipeline/my_custom_model.egg-info/top_level.txt (stored 0%)\r\n",
      "  adding: create_model_to_pipeline/.git/ (stored 0%)\r\n",
      "  adding: create_model_to_pipeline/.git/branches/ (stored 0%)\r\n",
      "  adding: create_model_to_pipeline/.git/index (deflated 47%)\r\n",
      "  adding: create_model_to_pipeline/.git/hooks/ (stored 0%)\r\n",
      "  adding: create_model_to_pipeline/.git/hooks/pre-commit.sample (deflated 43%)\r\n",
      "  adding: create_model_to_pipeline/.git/hooks/prepare-commit-msg.sample (deflated 50%)\r\n",
      "  adding: create_model_to_pipeline/.git/hooks/applypatch-msg.sample (deflated 42%)\r\n",
      "  adding: create_model_to_pipeline/.git/hooks/fsmonitor-watchman.sample (deflated 53%)\r\n",
      "  adding: create_model_to_pipeline/.git/hooks/post-update.sample (deflated 27%)\r\n",
      "  adding: create_model_to_pipeline/.git/hooks/update.sample (deflated 68%)\r\n",
      "  adding: create_model_to_pipeline/.git/hooks/pre-push.sample (deflated 50%)\r\n",
      "  adding: create_model_to_pipeline/.git/hooks/pre-receive.sample (deflated 40%)\r\n",
      "  adding: create_model_to_pipeline/.git/hooks/pre-rebase.sample (deflated 59%)\r\n",
      "  adding: create_model_to_pipeline/.git/hooks/commit-msg.sample (deflated 44%)\r\n",
      "  adding: create_model_to_pipeline/.git/hooks/pre-applypatch.sample (deflated 38%)\r\n",
      "  adding: create_model_to_pipeline/.git/info/ (stored 0%)\r\n",
      "  adding: create_model_to_pipeline/.git/info/exclude (deflated 28%)\r\n",
      "  adding: create_model_to_pipeline/.git/config (deflated 33%)\r\n",
      "  adding: create_model_to_pipeline/.git/refs/ (stored 0%)\r\n",
      "  adding: create_model_to_pipeline/.git/refs/heads/ (stored 0%)\r\n",
      "  adding: create_model_to_pipeline/.git/refs/heads/master (stored 0%)\r\n",
      "  adding: create_model_to_pipeline/.git/refs/remotes/ (stored 0%)\r\n",
      "  adding: create_model_to_pipeline/.git/refs/remotes/origin/ (stored 0%)\r\n",
      "  adding: create_model_to_pipeline/.git/refs/remotes/origin/HEAD (stored 0%)\r\n",
      "  adding: create_model_to_pipeline/.git/refs/tags/ (stored 0%)\r\n",
      "  adding: create_model_to_pipeline/.git/objects/ (stored 0%)\r\n",
      "  adding: create_model_to_pipeline/.git/objects/info/ (stored 0%)\r\n",
      "  adding: create_model_to_pipeline/.git/objects/pack/ (stored 0%)\r\n",
      "  adding: create_model_to_pipeline/.git/objects/pack/pack-61cdd522cfb0c695055b0d8ec0d8c189fd9244a1.pack (deflated 4%)\r\n",
      "  adding: create_model_to_pipeline/.git/objects/pack/pack-61cdd522cfb0c695055b0d8ec0d8c189fd9244a1.idx (deflated 16%)\r\n",
      "  adding: create_model_to_pipeline/.git/logs/ (stored 0%)\r\n",
      "  adding: create_model_to_pipeline/.git/logs/refs/ (stored 0%)\r\n",
      "  adding: create_model_to_pipeline/.git/logs/refs/heads/ (stored 0%)\r\n",
      "  adding: create_model_to_pipeline/.git/logs/refs/heads/master (deflated 31%)\r\n",
      "  adding: create_model_to_pipeline/.git/logs/refs/remotes/ (stored 0%)\r\n",
      "  adding: create_model_to_pipeline/.git/logs/refs/remotes/origin/ (stored 0%)\r\n",
      "  adding: create_model_to_pipeline/.git/logs/refs/remotes/origin/HEAD (deflated 31%)\r\n",
      "  adding: create_model_to_pipeline/.git/logs/HEAD (deflated 31%)\r\n",
      "  adding: create_model_to_pipeline/.git/description (deflated 14%)\r\n",
      "  adding: create_model_to_pipeline/.git/packed-refs (deflated 11%)\r\n",
      "  adding: create_model_to_pipeline/.git/HEAD (stored 0%)\r\n",
      "  adding: create_model_to_pipeline/.idea/ (stored 0%)\r\n",
      "  adding: create_model_to_pipeline/.idea/misc.xml (deflated 30%)\r\n",
      "  adding: create_model_to_pipeline/.idea/vcs.xml (deflated 22%)\r\n",
      "  adding: create_model_to_pipeline/.idea/.gitignore (stored 0%)\r\n",
      "  adding: create_model_to_pipeline/.idea/inspectionProfiles/ (stored 0%)\r\n",
      "  adding: create_model_to_pipeline/.idea/inspectionProfiles/profiles_settings.xml (deflated 27%)\r\n",
      "  adding: create_model_to_pipeline/.idea/modules.xml (deflated 39%)\r\n",
      "  adding: create_model_to_pipeline/.idea/sklearn_transforms.iml (deflated 31%)\r\n",
      "  adding: create_model_to_pipeline/README.md (deflated 15%)\r\n",
      "  adding: create_model_to_pipeline/setup.cfg (deflated 16%)\r\n",
      "  adding: create_model_to_pipeline/setup.py (deflated 43%)\r\n",
      "  adding: create_model_to_pipeline/my_custom_model/ (stored 0%)\r\n",
      "  adding: create_model_to_pipeline/my_custom_model/transforms.py (deflated 66%)\r\n",
      "  adding: create_model_to_pipeline/my_custom_model/__init__.py (stored 0%)\r\n",
      "  adding: create_model_to_pipeline/my_custom_model/custom_dense_model_classifier.py (deflated 68%)\r\n"
     ]
    }
   ],
   "source": [
    "!zip -r create_model_to_pipeline.zip create_model_to_pipeline"
   ]
  },
  {
   "cell_type": "markdown",
   "metadata": {},
   "source": [
    "Com o arquivo zip do nosso pacote carregado no Kernel deste notebook, podemos utilizar a ferramenta pip para instalá-lo, conforme a célula abaixo:"
   ]
  },
  {
   "cell_type": "code",
   "execution_count": 34,
   "metadata": {},
   "outputs": [
    {
     "name": "stdout",
     "output_type": "stream",
     "text": [
      "Defaulting to user installation because normal site-packages is not writeable\n",
      "Processing ./create_model_to_pipeline.zip\n",
      "Building wheels for collected packages: dense-model-to-pipeline\n",
      "  Building wheel for dense-model-to-pipeline (setup.py) ... \u001b[?25ldone\n",
      "\u001b[?25h  Created wheel for dense-model-to-pipeline: filename=dense_model_to_pipeline-1.0-py3-none-any.whl size=4512 sha256=135cbd2d1a9af4d805216a9cb8ed7cd3b13ad8ba5cfbb029488f95fbd9805f78\n",
      "  Stored in directory: /tmp/pip-ephem-wheel-cache-fu_0k4v7/wheels/3c/54/1d/84938028f909b939605b09d22dfd467ea462ecbded855f4eeb\n",
      "Successfully built dense-model-to-pipeline\n",
      "Installing collected packages: dense-model-to-pipeline\n",
      "  Attempting uninstall: dense-model-to-pipeline\n",
      "    Found existing installation: dense-model-to-pipeline 1.0\n",
      "    Uninstalling dense-model-to-pipeline-1.0:\n",
      "      Successfully uninstalled dense-model-to-pipeline-1.0\n",
      "Successfully installed dense-model-to-pipeline-1.0\n"
     ]
    }
   ],
   "source": [
    "!pip install create_model_to_pipeline.zip"
   ]
  },
  {
   "cell_type": "markdown",
   "metadata": {},
   "source": [
    "Podemos agora realizar a importação do nosso pacote personalizado em nosso notabook!\n",
    "\n",
    "Iremos importar a transformação DropColumns. Se você possui outras transformações personalizadas, não se esqueça de importá-las!"
   ]
  },
  {
   "cell_type": "code",
   "execution_count": 3,
   "metadata": {},
   "outputs": [],
   "source": [
    "from my_custom_model.custom_dense_model_classifier import DenseModel\n",
    "from my_custom_model.transforms import PrepareData"
   ]
  },
  {
   "cell_type": "markdown",
   "metadata": {},
   "source": [
    "#### Declarando a Pipeline\n",
    "\n",
    "Após a importação das transformações personalizadas como um pacote Python, podemos partir para a declaração da nossa Pipeline.\n",
    "\n",
    "O processo é bem semelhante ao realizado na primeira etapa, porém com algumas diferenças importantes, então preste bem atenção!\n",
    "\n",
    "A Pipeline exemplo possui três estágios: \n",
    "\n",
    "    - remover a coluna \"NOME\"\n",
    "    - imputar \"zeros\" em todos os valores faltantes\n",
    "    - inserir os dados pré-processados como entrada em um modelo treinado\n",
    "    \n",
    "Relembrando, a entrada desta Pipeline será o conjunto cru de dados fornecido exceto a coluna \"PERFIL\" (variável-alvo a ser determinada pelo modelo).\n",
    "\n",
    "    MATRICULA       - número de matrícula do estudante\n",
    "    NOME            - nome completo do estudante\n",
    "    REPROVACOES_DE  - número de reprovações na disciplina de ``Direito Empresarial``\n",
    "    REPROVACOES_EM  - número de reprovações na disciplina de ``Empreendedorismo``\n",
    "    REPROVACOES_MF  - número de reprovações na disciplina de ``Matemática Financeira``\n",
    "    REPROVACOES_GO  - número de reprovações na disciplina de ``Gestão Operacional``\n",
    "    NOTA_DE         - média simples das notas do aluno na disciplina de ``Direito Empresarial`` (0-10)\n",
    "    NOTA_EM         - média simples das notas do aluno na disciplina de ``Empreendedorismo`` (0-10)\n",
    "    NOTA_MF         - média simples das notas do aluno na disciplina de ``Matemática Financeira`` (0-10)\n",
    "    NOTA_GO         - média simples das notas do aluno na disciplina de ``Gestão Operacional`` (0-10)\n",
    "    INGLES          - variável binária que indica se o estudante tem conhecimento em língua inglesa (0 -> sim ou 1 -> não).\n",
    "    H_AULA_PRES     - horas de estudo presencial realizadas pelo estudante\n",
    "    TAREFAS_ONLINE  - número de tarefas online entregues pelo estudante\n",
    "    FALTAS          - número de faltas acumuladas do estudante (todas disciplinas)\n",
    "    \n",
    "A variável-alvo é:\n",
    "\n",
    "PERFIL               - uma *string* que indica uma de cinco possibilidades: \n",
    "    \"EXCELENTE\"      - Estudante não necessita de mentoria\n",
    "    \"MUITO BOM\"      - Estudante não necessita de mentoria\n",
    "    \"HUMANAS\"        - Estudante necessita de mentoria exclusivamente em matérias com conteúdo de ciências humanas\n",
    "    \"EXATAS\"         - Estudante necessita de mentoria apenas em disciplinas com conteúdo de ciências exatas\n",
    "    \"DIFICULDADE\"    - Estudante necessita de mentoria em duas ou mais disciplinas\n",
    "\n",
    "Com um modelo capaz de classificar um estudante em uma dessas categorias, podemos automatizar parte da mentoria estudantil através de assistentes virtuais, que serão capazes de recomendar práticas de estudo e conteúdo personalizado com base nas necessidades de cada aluno."
   ]
  },
  {
   "cell_type": "markdown",
   "metadata": {},
   "source": [
    "## ATENÇÃO: As \"features\" declaradas na célula abaixo são as entradas da PIPELINE, e não do seu modelo (as features da Pipeline serão TODAS as colunas do dataset exceto a coluna PERFIL, que é o nosso alvo)."
   ]
  },
  {
   "cell_type": "code",
   "execution_count": 4,
   "metadata": {},
   "outputs": [],
   "source": [
    "# Definição das colunas que serão features (entradas) da Pipeline\n",
    "features = [\n",
    "    \"MATRICULA\", \"NOME\", 'REPROVACOES_DE', 'REPROVACOES_EM', \"REPROVACOES_MF\", \"REPROVACOES_GO\",\n",
    "    \"NOTA_DE\", \"NOTA_EM\", \"NOTA_MF\", \"NOTA_GO\",\n",
    "    \"INGLES\", \"H_AULA_PRES\", \"TAREFAS_ONLINE\", \"FALTAS\", \n",
    "]\n"
   ]
  },
  {
   "cell_type": "code",
   "execution_count": 5,
   "metadata": {},
   "outputs": [],
   "source": [
    "# Preparação dos argumentos para os métodos da biblioteca ``scikit-learn``\n",
    "X = df_data_1[features]\n",
    "Y = df_data_1[\"PERFIL\"].values.ravel()"
   ]
  },
  {
   "cell_type": "markdown",
   "metadata": {},
   "source": [
    "**** Preparação das transformações"
   ]
  },
  {
   "cell_type": "code",
   "execution_count": 6,
   "metadata": {},
   "outputs": [],
   "source": [
    "drop_columns = ['NOME',\"MATRICULA\",\"FALTAS\",\"INGLES\"]\n",
    "proporcional_in_columns = [\"NOTA_DE\",\"NOTA_GO\",\"NOTA_MF\",\"NOTA_EM\"]\n",
    "merge_comlumns_to_name = [\"H_AULA_PRES\",\"TAREFAS_ONLINE\",\"ATIVIDADES\"]\n",
    "features_to_model = [\n",
    "    'REPROVACOES_DE', 'REPROVACOES_EM', \"REPROVACOES_MF\", \"REPROVACOES_GO\",\n",
    "    \"NOTA_DE\", \"NOTA_EM\", \"NOTA_MF\", \"NOTA_GO\", \"ATIVIDADES\"\n",
    "]\n",
    "prepare_data = PrepareData(drop_columns,proporcional_in_columns,merge_comlumns_to_name)"
   ]
  },
  {
   "cell_type": "markdown",
   "metadata": {},
   "source": [
    "**** Divisão dos dados"
   ]
  },
  {
   "cell_type": "code",
   "execution_count": 7,
   "metadata": {},
   "outputs": [],
   "source": [
    "#X_train e Y_train serão dividos dentro do modelo para extrair X_val e Y_val, por isso test_size é pequeno aqui\n",
    "X_train, X_test, y_train, y_test = train_test_split(X, Y, test_size=0.1, random_state=337)"
   ]
  },
  {
   "cell_type": "markdown",
   "metadata": {},
   "source": [
    "# Modelo"
   ]
  },
  {
   "cell_type": "code",
   "execution_count": 8,
   "metadata": {},
   "outputs": [],
   "source": [
    "#input_s,num_classes, batch_size, epochs, activation, prepare_data\n",
    "model = DenseModel(9,5,50,100,\"relu\",prepare_data)"
   ]
  },
  {
   "cell_type": "markdown",
   "metadata": {},
   "source": [
    "Na célula abaixo é realizada a declaração de um objeto **Pipeline** do scikit-learn, onde é declarado o parâmetro *steps*, que nada mais é do que uma lista com as etapas da nossa pipeline:\n",
    "\n",
    "    'prepare_data'     - transformação personalizad para preparação dos dados\n",
    "    'model'         - Cria o modelo baseado em redes neurais com camadas totalmente conectadas\n",
    "    \n",
    "Note que passamos como passos as transformadas instanciadas anteriormente, sob nome `rm_columns` e `si`."
   ]
  },
  {
   "cell_type": "code",
   "execution_count": 9,
   "metadata": {},
   "outputs": [],
   "source": [
    "# Criação da nossa pipeline para armazenamento no Watson Machine Learning:\n",
    "my_pipeline = Pipeline(\n",
    "    steps=[\n",
    "        ('prepare_data', prepare_data),\n",
    "        ('model', model),\n",
    "    ]\n",
    ")"
   ]
  },
  {
   "cell_type": "markdown",
   "metadata": {},
   "source": [
    "Em seguida iremos executar o método `fit()` da Pipeline, realizando o pré-processamento e o treinamento do modelo de uma só vez."
   ]
  },
  {
   "cell_type": "code",
   "execution_count": 10,
   "metadata": {},
   "outputs": [
    {
     "name": "stdout",
     "output_type": "stream",
     "text": [
      "Epoch 1/50\n",
      "144/144 [==============================] - 0s 3ms/step - loss: 1.1983 - accuracy: 0.5786 - val_loss: 1.0229 - val_accuracy: 0.6222\n",
      "Epoch 2/50\n",
      "144/144 [==============================] - 0s 2ms/step - loss: 0.9432 - accuracy: 0.6382 - val_loss: 0.8919 - val_accuracy: 0.6536\n",
      "Epoch 3/50\n",
      "144/144 [==============================] - 0s 2ms/step - loss: 0.8242 - accuracy: 0.6922 - val_loss: 0.7813 - val_accuracy: 0.7061\n",
      "Epoch 4/50\n",
      "144/144 [==============================] - 0s 2ms/step - loss: 0.7347 - accuracy: 0.7275 - val_loss: 0.7110 - val_accuracy: 0.7442\n",
      "Epoch 5/50\n",
      "144/144 [==============================] - 0s 2ms/step - loss: 0.6787 - accuracy: 0.7441 - val_loss: 0.6584 - val_accuracy: 0.7581\n",
      "Epoch 6/50\n",
      "144/144 [==============================] - 0s 2ms/step - loss: 0.6353 - accuracy: 0.7576 - val_loss: 0.6231 - val_accuracy: 0.7589\n",
      "Epoch 7/50\n",
      "144/144 [==============================] - 0s 2ms/step - loss: 0.6021 - accuracy: 0.7681 - val_loss: 0.5979 - val_accuracy: 0.7625\n",
      "Epoch 8/50\n",
      "144/144 [==============================] - 0s 2ms/step - loss: 0.5826 - accuracy: 0.7711 - val_loss: 0.5764 - val_accuracy: 0.7722\n",
      "Epoch 9/50\n",
      "144/144 [==============================] - 0s 2ms/step - loss: 0.5619 - accuracy: 0.7813 - val_loss: 0.5613 - val_accuracy: 0.7869\n",
      "Epoch 10/50\n",
      "144/144 [==============================] - 0s 2ms/step - loss: 0.5486 - accuracy: 0.7872 - val_loss: 0.5506 - val_accuracy: 0.7922\n",
      "Epoch 11/50\n",
      "144/144 [==============================] - 0s 2ms/step - loss: 0.5380 - accuracy: 0.7927 - val_loss: 0.5481 - val_accuracy: 0.7783\n",
      "Epoch 12/50\n",
      "144/144 [==============================] - 0s 2ms/step - loss: 0.5307 - accuracy: 0.7939 - val_loss: 0.5351 - val_accuracy: 0.7956\n",
      "Epoch 13/50\n",
      "144/144 [==============================] - 0s 2ms/step - loss: 0.5271 - accuracy: 0.7963 - val_loss: 0.5327 - val_accuracy: 0.7950\n",
      "Epoch 14/50\n",
      "144/144 [==============================] - 0s 2ms/step - loss: 0.5201 - accuracy: 0.7965 - val_loss: 0.5290 - val_accuracy: 0.7967\n",
      "Epoch 15/50\n",
      "144/144 [==============================] - 0s 2ms/step - loss: 0.5170 - accuracy: 0.7980 - val_loss: 0.5375 - val_accuracy: 0.7906\n",
      "Epoch 16/50\n",
      "144/144 [==============================] - 0s 2ms/step - loss: 0.5152 - accuracy: 0.7982 - val_loss: 0.5248 - val_accuracy: 0.7914\n",
      "Epoch 17/50\n",
      "144/144 [==============================] - 0s 2ms/step - loss: 0.5081 - accuracy: 0.8008 - val_loss: 0.5179 - val_accuracy: 0.7975\n",
      "Epoch 18/50\n",
      "144/144 [==============================] - 0s 2ms/step - loss: 0.5062 - accuracy: 0.8012 - val_loss: 0.5152 - val_accuracy: 0.8036\n",
      "Epoch 19/50\n",
      "144/144 [==============================] - 0s 2ms/step - loss: 0.5052 - accuracy: 0.8014 - val_loss: 0.5132 - val_accuracy: 0.7969\n",
      "Epoch 20/50\n",
      "144/144 [==============================] - 0s 2ms/step - loss: 0.5012 - accuracy: 0.8021 - val_loss: 0.5139 - val_accuracy: 0.8011\n",
      "Epoch 21/50\n",
      "144/144 [==============================] - 0s 2ms/step - loss: 0.4999 - accuracy: 0.8007 - val_loss: 0.5104 - val_accuracy: 0.7958\n",
      "Epoch 22/50\n",
      "144/144 [==============================] - 0s 2ms/step - loss: 0.4975 - accuracy: 0.8042 - val_loss: 0.5084 - val_accuracy: 0.7972\n",
      "Epoch 23/50\n",
      "144/144 [==============================] - 0s 2ms/step - loss: 0.4945 - accuracy: 0.8058 - val_loss: 0.5081 - val_accuracy: 0.7908\n",
      "Epoch 24/50\n",
      "144/144 [==============================] - 0s 2ms/step - loss: 0.4945 - accuracy: 0.8022 - val_loss: 0.5004 - val_accuracy: 0.8017\n",
      "Epoch 25/50\n",
      "144/144 [==============================] - 0s 2ms/step - loss: 0.4912 - accuracy: 0.8041 - val_loss: 0.4997 - val_accuracy: 0.7925\n",
      "Epoch 26/50\n",
      "144/144 [==============================] - 0s 2ms/step - loss: 0.4892 - accuracy: 0.8044 - val_loss: 0.4983 - val_accuracy: 0.7933\n",
      "Epoch 27/50\n",
      "144/144 [==============================] - 0s 2ms/step - loss: 0.4908 - accuracy: 0.8024 - val_loss: 0.4974 - val_accuracy: 0.7939\n",
      "Epoch 28/50\n",
      "144/144 [==============================] - 0s 2ms/step - loss: 0.4875 - accuracy: 0.8039 - val_loss: 0.4957 - val_accuracy: 0.8064\n",
      "Epoch 29/50\n",
      "144/144 [==============================] - 0s 2ms/step - loss: 0.4848 - accuracy: 0.8067 - val_loss: 0.4930 - val_accuracy: 0.8044\n",
      "Epoch 30/50\n",
      "144/144 [==============================] - 0s 2ms/step - loss: 0.4833 - accuracy: 0.8046 - val_loss: 0.4914 - val_accuracy: 0.8050\n",
      "Epoch 31/50\n",
      "144/144 [==============================] - 0s 2ms/step - loss: 0.4811 - accuracy: 0.8058 - val_loss: 0.4916 - val_accuracy: 0.8031\n",
      "Epoch 32/50\n",
      "144/144 [==============================] - 0s 2ms/step - loss: 0.4812 - accuracy: 0.8031 - val_loss: 0.4868 - val_accuracy: 0.8056\n",
      "Epoch 33/50\n",
      "144/144 [==============================] - 0s 2ms/step - loss: 0.4792 - accuracy: 0.8063 - val_loss: 0.4927 - val_accuracy: 0.8011\n",
      "Epoch 34/50\n",
      "144/144 [==============================] - 0s 2ms/step - loss: 0.4801 - accuracy: 0.8062 - val_loss: 0.4870 - val_accuracy: 0.8072\n",
      "Epoch 35/50\n",
      "144/144 [==============================] - 0s 2ms/step - loss: 0.4786 - accuracy: 0.8058 - val_loss: 0.4856 - val_accuracy: 0.8114\n",
      "Epoch 36/50\n",
      "144/144 [==============================] - 0s 2ms/step - loss: 0.4762 - accuracy: 0.8055 - val_loss: 0.4888 - val_accuracy: 0.7969\n",
      "Epoch 37/50\n",
      "144/144 [==============================] - 0s 2ms/step - loss: 0.4754 - accuracy: 0.8066 - val_loss: 0.4819 - val_accuracy: 0.8108\n",
      "Epoch 38/50\n",
      "144/144 [==============================] - 0s 2ms/step - loss: 0.4759 - accuracy: 0.8069 - val_loss: 0.4831 - val_accuracy: 0.8117\n",
      "Epoch 39/50\n",
      "144/144 [==============================] - 0s 2ms/step - loss: 0.4748 - accuracy: 0.8056 - val_loss: 0.4852 - val_accuracy: 0.8092\n",
      "Epoch 40/50\n",
      "144/144 [==============================] - 0s 2ms/step - loss: 0.4734 - accuracy: 0.8075 - val_loss: 0.4792 - val_accuracy: 0.8114\n",
      "Epoch 41/50\n",
      "144/144 [==============================] - 0s 2ms/step - loss: 0.4735 - accuracy: 0.8080 - val_loss: 0.4782 - val_accuracy: 0.8106\n",
      "Epoch 42/50\n",
      "144/144 [==============================] - 0s 2ms/step - loss: 0.4712 - accuracy: 0.8086 - val_loss: 0.4837 - val_accuracy: 0.7983\n",
      "Epoch 43/50\n",
      "144/144 [==============================] - 0s 2ms/step - loss: 0.4720 - accuracy: 0.8069 - val_loss: 0.4778 - val_accuracy: 0.8072\n",
      "Epoch 44/50\n",
      "144/144 [==============================] - 0s 2ms/step - loss: 0.4708 - accuracy: 0.8067 - val_loss: 0.4845 - val_accuracy: 0.8072\n",
      "Epoch 45/50\n",
      "144/144 [==============================] - 0s 2ms/step - loss: 0.4724 - accuracy: 0.8059 - val_loss: 0.4801 - val_accuracy: 0.8075\n",
      "Epoch 46/50\n",
      "144/144 [==============================] - 0s 2ms/step - loss: 0.4683 - accuracy: 0.8073 - val_loss: 0.4772 - val_accuracy: 0.8000\n",
      "Epoch 47/50\n",
      "144/144 [==============================] - 0s 2ms/step - loss: 0.4691 - accuracy: 0.8075 - val_loss: 0.4753 - val_accuracy: 0.8083\n",
      "Epoch 48/50\n",
      "144/144 [==============================] - 0s 2ms/step - loss: 0.4689 - accuracy: 0.8087 - val_loss: 0.4748 - val_accuracy: 0.8106\n",
      "Epoch 49/50\n",
      "144/144 [==============================] - 0s 2ms/step - loss: 0.4679 - accuracy: 0.8110 - val_loss: 0.4781 - val_accuracy: 0.7989\n",
      "Epoch 50/50\n",
      "144/144 [==============================] - 0s 2ms/step - loss: 0.4678 - accuracy: 0.8069 - val_loss: 0.4754 - val_accuracy: 0.8003\n"
     ]
    },
    {
     "data": {
      "text/plain": [
       "Pipeline(steps=[('prepare_data',\n",
       "                 PrepareData(drop_colums=['NOME', 'MATRICULA', 'FALTAS',\n",
       "                                          'INGLES'],\n",
       "                             merge_comlumns_to_name=['H_AULA_PRES',\n",
       "                                                     'TAREFAS_ONLINE',\n",
       "                                                     'ATIVIDADES'],\n",
       "                             proporcional_in_columns=['NOTA_DE', 'NOTA_GO',\n",
       "                                                      'NOTA_MF', 'NOTA_EM'])),\n",
       "                ('model',\n",
       "                 DenseModel(activation='relu', batch_size=50, epochs=100,\n",
       "                            input_s=9, num_classes=5,\n",
       "                            prepare_data=PrepareData(drop_colums=['NOME',\n",
       "                                                                  'MATRICULA',\n",
       "                                                                  'FALTAS',\n",
       "                                                                  'INGLES'],\n",
       "                                                     merge_comlumns_to_name=['H_AULA_PRES',\n",
       "                                                                             'TAREFAS_ONLINE',\n",
       "                                                                             'ATIVIDADES'],\n",
       "                                                     proporcional_in_columns=['NOTA_DE',\n",
       "                                                                              'NOTA_GO',\n",
       "                                                                              'NOTA_MF',\n",
       "                                                                              'NOTA_EM'])))])"
      ]
     },
     "execution_count": 10,
     "metadata": {},
     "output_type": "execute_result"
    }
   ],
   "source": [
    "# Inicialização da Pipeline (pré-processamento e realização do treinamento do modelo)\n",
    "my_pipeline.fit(X_train, y_train)"
   ]
  },
  {
   "cell_type": "code",
   "execution_count": 16,
   "metadata": {},
   "outputs": [
    {
     "data": {
      "text/plain": [
       "6820     982644\n",
       "17134    528843\n",
       "4445     249367\n",
       "17078    362984\n",
       "15996    801090\n",
       "          ...  \n",
       "1087     677715\n",
       "4539     271501\n",
       "12729    625738\n",
       "14402    443502\n",
       "12548    201568\n",
       "Name: MATRICULA, Length: 18000, dtype: int64"
      ]
     },
     "execution_count": 16,
     "metadata": {},
     "output_type": "execute_result"
    }
   ],
   "source": [
    "c = [\"MATRICULA\",\"NOME\"]\n",
    "\n",
    "X_train[c[0]]\n"
   ]
  },
  {
   "cell_type": "markdown",
   "metadata": {},
   "source": [
    "Agora que temos uma pipeline completa, com etapas de pré-processamento configuradas e também um modelo por árvore de decisão já treinado, podemos realizar a integração com o Watson Machine Learning!"
   ]
  },
  {
   "cell_type": "markdown",
   "metadata": {},
   "source": [
    "<hr>"
   ]
  },
  {
   "cell_type": "markdown",
   "metadata": {},
   "source": [
    "### Encapsulando uma Pipeline personalizada no Watson Machine Learning"
   ]
  },
  {
   "cell_type": "markdown",
   "metadata": {},
   "source": [
    "#### Estabelecendo conexão entre o cliente Python do WML e a sua instância do serviço na nuvem"
   ]
  },
  {
   "cell_type": "code",
   "execution_count": 1,
   "metadata": {},
   "outputs": [
    {
     "ename": "ImportError",
     "evalue": "cannot import name 'joblib'",
     "output_type": "error",
     "traceback": [
      "\u001b[0;31m---------------------------------------------------------------------------\u001b[0m",
      "\u001b[0;31mImportError\u001b[0m                               Traceback (most recent call last)",
      "\u001b[0;32m<ipython-input-1-547659685aad>\u001b[0m in \u001b[0;36m<module>\u001b[0;34m\u001b[0m\n\u001b[1;32m      1\u001b[0m \u001b[0;31m# Biblioteca Python com implementação de um cliente HTTP para a API do WML\u001b[0m\u001b[0;34m\u001b[0m\u001b[0;34m\u001b[0m\u001b[0;34m\u001b[0m\u001b[0m\n\u001b[0;32m----> 2\u001b[0;31m \u001b[0;32mfrom\u001b[0m \u001b[0mwatson_machine_learning_client\u001b[0m \u001b[0;32mimport\u001b[0m \u001b[0mWatsonMachineLearningAPIClient\u001b[0m\u001b[0;34m\u001b[0m\u001b[0;34m\u001b[0m\u001b[0m\n\u001b[0m",
      "\u001b[0;32m~/.local/lib/python3.6/site-packages/watson_machine_learning_client/__init__.py\u001b[0m in \u001b[0;36m<module>\u001b[0;34m\u001b[0m\n\u001b[1;32m     15\u001b[0m     \u001b[0;32mpass\u001b[0m\u001b[0;34m\u001b[0m\u001b[0;34m\u001b[0m\u001b[0m\n\u001b[1;32m     16\u001b[0m \u001b[0;32mfrom\u001b[0m \u001b[0;34m.\u001b[0m\u001b[0mutils\u001b[0m \u001b[0;32mimport\u001b[0m \u001b[0mversion\u001b[0m\u001b[0;34m\u001b[0m\u001b[0;34m\u001b[0m\u001b[0m\n\u001b[0;32m---> 17\u001b[0;31m \u001b[0;32mfrom\u001b[0m \u001b[0;34m.\u001b[0m\u001b[0mclient\u001b[0m \u001b[0;32mimport\u001b[0m \u001b[0mWatsonMachineLearningAPIClient\u001b[0m\u001b[0;34m\u001b[0m\u001b[0;34m\u001b[0m\u001b[0m\n\u001b[0m\u001b[1;32m     18\u001b[0m \u001b[0;34m\u001b[0m\u001b[0m\n\u001b[1;32m     19\u001b[0m \u001b[0;32mfrom\u001b[0m \u001b[0;34m.\u001b[0m\u001b[0mutils\u001b[0m \u001b[0;32mimport\u001b[0m \u001b[0mis_python_2\u001b[0m\u001b[0;34m\u001b[0m\u001b[0;34m\u001b[0m\u001b[0m\n",
      "\u001b[0;32m~/.local/lib/python3.6/site-packages/watson_machine_learning_client/client.py\u001b[0m in \u001b[0;36m<module>\u001b[0;34m\u001b[0m\n\u001b[1;32m     12\u001b[0m \u001b[0;32mfrom\u001b[0m \u001b[0mwatson_machine_learning_client\u001b[0m\u001b[0;34m.\u001b[0m\u001b[0mlearning_system\u001b[0m \u001b[0;32mimport\u001b[0m \u001b[0mLearningSystem\u001b[0m\u001b[0;34m\u001b[0m\u001b[0;34m\u001b[0m\u001b[0m\n\u001b[1;32m     13\u001b[0m \u001b[0;32mfrom\u001b[0m \u001b[0mwatson_machine_learning_client\u001b[0m\u001b[0;34m.\u001b[0m\u001b[0mexperiments\u001b[0m \u001b[0;32mimport\u001b[0m \u001b[0mExperiments\u001b[0m\u001b[0;34m\u001b[0m\u001b[0;34m\u001b[0m\u001b[0m\n\u001b[0;32m---> 14\u001b[0;31m \u001b[0;32mfrom\u001b[0m \u001b[0mwatson_machine_learning_client\u001b[0m\u001b[0;34m.\u001b[0m\u001b[0mrepository\u001b[0m \u001b[0;32mimport\u001b[0m \u001b[0mRepository\u001b[0m\u001b[0;34m\u001b[0m\u001b[0;34m\u001b[0m\u001b[0m\n\u001b[0m\u001b[1;32m     15\u001b[0m \u001b[0;32mfrom\u001b[0m \u001b[0mwatson_machine_learning_client\u001b[0m\u001b[0;34m.\u001b[0m\u001b[0mmodels\u001b[0m \u001b[0;32mimport\u001b[0m \u001b[0mModels\u001b[0m\u001b[0;34m\u001b[0m\u001b[0;34m\u001b[0m\u001b[0m\n\u001b[1;32m     16\u001b[0m \u001b[0;32mfrom\u001b[0m \u001b[0mwatson_machine_learning_client\u001b[0m\u001b[0;34m.\u001b[0m\u001b[0mdefinitions\u001b[0m \u001b[0;32mimport\u001b[0m \u001b[0mDefinitions\u001b[0m\u001b[0;34m\u001b[0m\u001b[0;34m\u001b[0m\u001b[0m\n",
      "\u001b[0;32m~/.local/lib/python3.6/site-packages/watson_machine_learning_client/repository.py\u001b[0m in \u001b[0;36m<module>\u001b[0;34m\u001b[0m\n\u001b[1;32m     14\u001b[0m \u001b[0;32mfrom\u001b[0m \u001b[0mwatson_machine_learning_client\u001b[0m\u001b[0;34m.\u001b[0m\u001b[0mwml_client_error\u001b[0m \u001b[0;32mimport\u001b[0m \u001b[0mWMLClientError\u001b[0m\u001b[0;34m\u001b[0m\u001b[0;34m\u001b[0m\u001b[0m\n\u001b[1;32m     15\u001b[0m \u001b[0;32mfrom\u001b[0m \u001b[0mwatson_machine_learning_client\u001b[0m\u001b[0;34m.\u001b[0m\u001b[0mwml_resource\u001b[0m \u001b[0;32mimport\u001b[0m \u001b[0mWMLResource\u001b[0m\u001b[0;34m\u001b[0m\u001b[0;34m\u001b[0m\u001b[0m\n\u001b[0;32m---> 16\u001b[0;31m \u001b[0;32mfrom\u001b[0m \u001b[0mwatson_machine_learning_client\u001b[0m\u001b[0;34m.\u001b[0m\u001b[0mmodels\u001b[0m \u001b[0;32mimport\u001b[0m \u001b[0mModels\u001b[0m\u001b[0;34m\u001b[0m\u001b[0;34m\u001b[0m\u001b[0m\n\u001b[0m\u001b[1;32m     17\u001b[0m \u001b[0;32mfrom\u001b[0m \u001b[0mwatson_machine_learning_client\u001b[0m\u001b[0;34m.\u001b[0m\u001b[0mdefinitions\u001b[0m \u001b[0;32mimport\u001b[0m \u001b[0mDefinitions\u001b[0m\u001b[0;34m\u001b[0m\u001b[0;34m\u001b[0m\u001b[0m\n\u001b[1;32m     18\u001b[0m \u001b[0;32mfrom\u001b[0m \u001b[0mwatson_machine_learning_client\u001b[0m\u001b[0;34m.\u001b[0m\u001b[0mexperiments\u001b[0m \u001b[0;32mimport\u001b[0m \u001b[0mExperiments\u001b[0m\u001b[0;34m\u001b[0m\u001b[0;34m\u001b[0m\u001b[0m\n",
      "\u001b[0;32m~/.local/lib/python3.6/site-packages/watson_machine_learning_client/models.py\u001b[0m in \u001b[0;36m<module>\u001b[0;34m\u001b[0m\n\u001b[1;32m      9\u001b[0m \u001b[0;34m\u001b[0m\u001b[0m\n\u001b[1;32m     10\u001b[0m \u001b[0;32mfrom\u001b[0m \u001b[0m__future__\u001b[0m \u001b[0;32mimport\u001b[0m \u001b[0mprint_function\u001b[0m\u001b[0;34m\u001b[0m\u001b[0;34m\u001b[0m\u001b[0m\n\u001b[0;32m---> 11\u001b[0;31m \u001b[0;32mfrom\u001b[0m \u001b[0mwatson_machine_learning_client\u001b[0m\u001b[0;34m.\u001b[0m\u001b[0mlibs\u001b[0m\u001b[0;34m.\u001b[0m\u001b[0mrepo\u001b[0m\u001b[0;34m.\u001b[0m\u001b[0mmlrepositoryartifact\u001b[0m \u001b[0;32mimport\u001b[0m \u001b[0mMLRepositoryArtifact\u001b[0m\u001b[0;34m\u001b[0m\u001b[0;34m\u001b[0m\u001b[0m\n\u001b[0m\u001b[1;32m     12\u001b[0m \u001b[0;32mfrom\u001b[0m \u001b[0mwatson_machine_learning_client\u001b[0m\u001b[0;34m.\u001b[0m\u001b[0mlibs\u001b[0m\u001b[0;34m.\u001b[0m\u001b[0mrepo\u001b[0m\u001b[0;34m.\u001b[0m\u001b[0mmlrepository\u001b[0m \u001b[0;32mimport\u001b[0m \u001b[0mMetaProps\u001b[0m\u001b[0;34m,\u001b[0m \u001b[0mMetaNames\u001b[0m\u001b[0;34m\u001b[0m\u001b[0;34m\u001b[0m\u001b[0m\n\u001b[1;32m     13\u001b[0m \u001b[0;32mimport\u001b[0m \u001b[0mrequests\u001b[0m\u001b[0;34m\u001b[0m\u001b[0;34m\u001b[0m\u001b[0m\n",
      "\u001b[0;32m~/.local/lib/python3.6/site-packages/watson_machine_learning_client/libs/repo/mlrepositoryartifact/__init__.py\u001b[0m in \u001b[0;36m<module>\u001b[0;34m\u001b[0m\n\u001b[1;32m     10\u001b[0m \u001b[0mwarnings\u001b[0m\u001b[0;34m.\u001b[0m\u001b[0mfilterwarnings\u001b[0m\u001b[0;34m(\u001b[0m\u001b[0;34m\"ignore\"\u001b[0m\u001b[0;34m,\u001b[0m \u001b[0mcategory\u001b[0m\u001b[0;34m=\u001b[0m\u001b[0mFutureWarning\u001b[0m\u001b[0;34m)\u001b[0m\u001b[0;34m\u001b[0m\u001b[0;34m\u001b[0m\u001b[0m\n\u001b[1;32m     11\u001b[0m \u001b[0;34m\u001b[0m\u001b[0m\n\u001b[0;32m---> 12\u001b[0;31m \u001b[0;32mfrom\u001b[0m \u001b[0;34m.\u001b[0m\u001b[0mml_repository_artifact\u001b[0m \u001b[0;32mimport\u001b[0m \u001b[0mMLRepositoryArtifact\u001b[0m\u001b[0;34m\u001b[0m\u001b[0;34m\u001b[0m\u001b[0m\n\u001b[0m\u001b[1;32m     13\u001b[0m \u001b[0;32mfrom\u001b[0m \u001b[0;34m.\u001b[0m\u001b[0mspark_artifact_loader\u001b[0m \u001b[0;32mimport\u001b[0m \u001b[0mSparkArtifactLoader\u001b[0m\u001b[0;34m\u001b[0m\u001b[0;34m\u001b[0m\u001b[0m\n\u001b[1;32m     14\u001b[0m \u001b[0;32mfrom\u001b[0m \u001b[0;34m.\u001b[0m\u001b[0mspark_pipeline_artifact\u001b[0m \u001b[0;32mimport\u001b[0m \u001b[0mSparkPipelineArtifact\u001b[0m\u001b[0;34m\u001b[0m\u001b[0;34m\u001b[0m\u001b[0m\n",
      "\u001b[0;32m~/.local/lib/python3.6/site-packages/watson_machine_learning_client/libs/repo/mlrepositoryartifact/ml_repository_artifact.py\u001b[0m in \u001b[0;36m<module>\u001b[0;34m\u001b[0m\n\u001b[1;32m     30\u001b[0m \u001b[0;34m\u001b[0m\u001b[0m\n\u001b[1;32m     31\u001b[0m \u001b[0;32mif\u001b[0m \u001b[0mlib_checker\u001b[0m\u001b[0;34m.\u001b[0m\u001b[0minstalled_libs\u001b[0m\u001b[0;34m[\u001b[0m\u001b[0mSCIKIT\u001b[0m\u001b[0;34m]\u001b[0m\u001b[0;34m:\u001b[0m\u001b[0;34m\u001b[0m\u001b[0;34m\u001b[0m\u001b[0m\n\u001b[0;32m---> 32\u001b[0;31m     \u001b[0;32mfrom\u001b[0m \u001b[0mwatson_machine_learning_client\u001b[0m\u001b[0;34m.\u001b[0m\u001b[0mlibs\u001b[0m\u001b[0;34m.\u001b[0m\u001b[0mrepo\u001b[0m\u001b[0;34m.\u001b[0m\u001b[0mmlrepositoryartifact\u001b[0m\u001b[0;34m.\u001b[0m\u001b[0mscikit_pipeline_model_artifact\u001b[0m \u001b[0;32mimport\u001b[0m \u001b[0mScikitPipelineModelArtifact\u001b[0m\u001b[0;34m\u001b[0m\u001b[0;34m\u001b[0m\u001b[0m\n\u001b[0m\u001b[1;32m     33\u001b[0m     \u001b[0;32mfrom\u001b[0m \u001b[0msklearn\u001b[0m\u001b[0;34m.\u001b[0m\u001b[0mbase\u001b[0m \u001b[0;32mimport\u001b[0m \u001b[0mBaseEstimator\u001b[0m\u001b[0;34m\u001b[0m\u001b[0;34m\u001b[0m\u001b[0m\n\u001b[1;32m     34\u001b[0m \u001b[0;34m\u001b[0m\u001b[0m\n",
      "\u001b[0;32m~/.local/lib/python3.6/site-packages/watson_machine_learning_client/libs/repo/mlrepositoryartifact/scikit_pipeline_model_artifact.py\u001b[0m in \u001b[0;36m<module>\u001b[0;34m\u001b[0m\n\u001b[1;32m     21\u001b[0m \u001b[0;34m\u001b[0m\u001b[0m\n\u001b[1;32m     22\u001b[0m \u001b[0;32mif\u001b[0m \u001b[0mlib_checker\u001b[0m\u001b[0;34m.\u001b[0m\u001b[0minstalled_libs\u001b[0m\u001b[0;34m[\u001b[0m\u001b[0mSCIKIT\u001b[0m\u001b[0;34m]\u001b[0m\u001b[0;34m:\u001b[0m\u001b[0;34m\u001b[0m\u001b[0;34m\u001b[0m\u001b[0m\n\u001b[0;32m---> 23\u001b[0;31m     \u001b[0;32mfrom\u001b[0m \u001b[0mwatson_machine_learning_client\u001b[0m\u001b[0;34m.\u001b[0m\u001b[0mlibs\u001b[0m\u001b[0;34m.\u001b[0m\u001b[0mrepo\u001b[0m\u001b[0;34m.\u001b[0m\u001b[0mmlrepositoryartifact\u001b[0m\u001b[0;34m.\u001b[0m\u001b[0mscikit_pipeline_reader\u001b[0m \u001b[0;32mimport\u001b[0m \u001b[0mScikitPipelineReader\u001b[0m\u001b[0;34m\u001b[0m\u001b[0;34m\u001b[0m\u001b[0m\n\u001b[0m\u001b[1;32m     24\u001b[0m     \u001b[0;32mfrom\u001b[0m \u001b[0mwatson_machine_learning_client\u001b[0m\u001b[0;34m.\u001b[0m\u001b[0mlibs\u001b[0m\u001b[0;34m.\u001b[0m\u001b[0mrepo\u001b[0m\u001b[0;34m.\u001b[0m\u001b[0mmlrepositoryartifact\u001b[0m\u001b[0;34m.\u001b[0m\u001b[0mxgboost_model_reader\u001b[0m \u001b[0;32mimport\u001b[0m \u001b[0mXGBoostModelReader\u001b[0m\u001b[0;34m\u001b[0m\u001b[0;34m\u001b[0m\u001b[0m\n\u001b[1;32m     25\u001b[0m     \u001b[0;32mfrom\u001b[0m \u001b[0msklearn\u001b[0m\u001b[0;34m.\u001b[0m\u001b[0mbase\u001b[0m \u001b[0;32mimport\u001b[0m \u001b[0mBaseEstimator\u001b[0m\u001b[0;34m\u001b[0m\u001b[0;34m\u001b[0m\u001b[0m\n",
      "\u001b[0;32m~/.local/lib/python3.6/site-packages/watson_machine_learning_client/libs/repo/mlrepositoryartifact/scikit_pipeline_reader.py\u001b[0m in \u001b[0;36m<module>\u001b[0;34m\u001b[0m\n\u001b[1;32m     23\u001b[0m \u001b[0;34m\u001b[0m\u001b[0m\n\u001b[1;32m     24\u001b[0m \u001b[0;32mif\u001b[0m \u001b[0mlib_checker\u001b[0m\u001b[0;34m.\u001b[0m\u001b[0minstalled_libs\u001b[0m\u001b[0;34m[\u001b[0m\u001b[0mSCIKIT\u001b[0m\u001b[0;34m]\u001b[0m\u001b[0;34m:\u001b[0m\u001b[0;34m\u001b[0m\u001b[0;34m\u001b[0m\u001b[0m\n\u001b[0;32m---> 25\u001b[0;31m     \u001b[0;32mfrom\u001b[0m \u001b[0msklearn\u001b[0m\u001b[0;34m.\u001b[0m\u001b[0mexternals\u001b[0m \u001b[0;32mimport\u001b[0m \u001b[0mjoblib\u001b[0m\u001b[0;34m\u001b[0m\u001b[0;34m\u001b[0m\u001b[0m\n\u001b[0m\u001b[1;32m     26\u001b[0m \u001b[0;34m\u001b[0m\u001b[0m\n\u001b[1;32m     27\u001b[0m \u001b[0mlogger\u001b[0m \u001b[0;34m=\u001b[0m \u001b[0mlogging\u001b[0m\u001b[0;34m.\u001b[0m\u001b[0mgetLogger\u001b[0m\u001b[0;34m(\u001b[0m\u001b[0;34m'ScikitPipelineReader'\u001b[0m\u001b[0;34m)\u001b[0m\u001b[0;34m\u001b[0m\u001b[0;34m\u001b[0m\u001b[0m\n",
      "\u001b[0;31mImportError\u001b[0m: cannot import name 'joblib'"
     ]
    }
   ],
   "source": [
    "# Biblioteca Python com implementação de um cliente HTTP para a API do WML\n",
    "from watson_machine_learning_client import WatsonMachineLearningAPIClient"
   ]
  },
  {
   "cell_type": "markdown",
   "metadata": {},
   "source": [
    "As próximas células irão realizar o deploy da pipeline declarada neste notebook no WML. Só prossiga se você já está satisfeito com seu modelo e acha que já é a hora de fazer o deploy da sua solução.\n",
    "\n",
    "Cole as credenciais de sua instância do Watson Machine Learning na variável na célula abaixo.\n",
    "\n",
    "É importante que a variável que contém os valores tenha o nome de ``wml_credentials`` para que as próximas células deste notebook executem corretamente."
   ]
  },
  {
   "cell_type": "code",
   "execution_count": null,
   "metadata": {},
   "outputs": [],
   "source": [
    "wml_credentials = {\n",
    "  \"apikey\": \"\",\n",
    "  \"iam_apikey_description\": \"\",\n",
    "  \"iam_apikey_name\": \"\",\n",
    "  \"iam_role_crn\": \"\",\n",
    "  \"iam_serviceid_crn\": \"\",\n",
    "  \"instance_id\": \"\",\n",
    "  \"url\": \"\"\n",
    "}"
   ]
  },
  {
   "cell_type": "code",
   "execution_count": null,
   "metadata": {},
   "outputs": [],
   "source": [
    "# Instanciando um objeto cliente do Watson Machine Learning a partir das credenciais fornecidas\n",
    "\n",
    "clientWML = WatsonMachineLearningAPIClient(wml_credentials)"
   ]
  },
  {
   "cell_type": "code",
   "execution_count": null,
   "metadata": {},
   "outputs": [],
   "source": [
    "# Extraindo detalhes da sua instância do Watson Machine Learning\n",
    "\n",
    "instance_details = clientWML.service_instance.get_details()\n",
    "print(json.dumps(instance_details, indent=4))"
   ]
  },
  {
   "cell_type": "markdown",
   "metadata": {},
   "source": [
    "**ATENÇÃO!!**\n",
    "\n",
    "Fique atento para os limites de consumo de sua instância do Watson Machine Learning!\n",
    "\n",
    "Caso você expire a camada grátis, não será possível avaliar seu modelo (pois é necessária a realização de algumas chamadas de API que consomem predições!)"
   ]
  },
  {
   "cell_type": "markdown",
   "metadata": {},
   "source": [
    "#### Listando todos os artefatos armazenados no seu WML"
   ]
  },
  {
   "cell_type": "markdown",
   "metadata": {},
   "source": [
    "Para listar todos os artefatos armazenados em seu Watson Machine Learning, você pode usar a seguinte função:\n",
    "\n",
    "    clientWML.repository.list()"
   ]
  },
  {
   "cell_type": "code",
   "execution_count": null,
   "metadata": {},
   "outputs": [],
   "source": [
    "# Listando todos os artefatos atualmente armazenados na sua instância do WML\n",
    "\n",
    "clientWML.repository.list()"
   ]
  },
  {
   "cell_type": "markdown",
   "metadata": {},
   "source": [
    "No plano LITE do Watson Machine Learning é permitido um número limitado de artefatos. Se for o caso de você já possuir um modelo online na sua instância, você pode apagá-lo utilizando o método clientWML.repository.delete():\n",
    "\n",
    "    artifact_guid = \"359c8951-d2fe-4063-8706-cc06b32d5e0d\"\n",
    "    clientWML.repository.delete(artifact_guid)"
   ]
  },
  {
   "cell_type": "markdown",
   "metadata": {},
   "source": [
    "#### Criando uma nova definição de pacote Python personalizado no WML"
   ]
  },
  {
   "cell_type": "markdown",
   "metadata": {},
   "source": [
    "O primeiro passo para realizar seu deploy é armazenar o código das transformações personalizadas criadas por você.\n",
    "\n",
    "Para essa etapa precisamos apenas do arquivo .zip do pacote criado (que já possuimos carregado no Kernel!)"
   ]
  },
  {
   "cell_type": "code",
   "execution_count": null,
   "metadata": {},
   "outputs": [],
   "source": [
    "# Definição de metadados do nosso pacote com as Transforms personalizadas\n",
    "pkg_meta = {\n",
    "    clientWML.runtimes.LibraryMetaNames.NAME: \"my_custom_sklearn_transform_1\",\n",
    "    clientWML.runtimes.LibraryMetaNames.DESCRIPTION: \"A custom sklearn transform\",\n",
    "    clientWML.runtimes.LibraryMetaNames.FILEPATH: \"sklearn_transforms.zip\",  # Note que estamos utilizando o .zip criado anteriormente!\n",
    "    clientWML.runtimes.LibraryMetaNames.VERSION: \"1.0\",\n",
    "    clientWML.runtimes.LibraryMetaNames.PLATFORM: { \"name\": \"python\", \"versions\": [\"3.6\"] }\n",
    "}\n",
    "custom_package_details = clientWML.runtimes.store_library( pkg_meta )\n",
    "custom_package_uid = clientWML.runtimes.get_library_uid( custom_package_details )\n",
    "\n",
    "print(\"\\n Lista de artefatos de runtime armazenados no WML:\")\n",
    "clientWML.repository.list()"
   ]
  },
  {
   "cell_type": "markdown",
   "metadata": {},
   "source": [
    "#### Criando uma nova definição de runtime Python personalizado no WML\n",
    "\n",
    "O segundo passo é armazenar uma definição de runtime Python para utilizar a nossa biblioteca personalizada.\n",
    "\n",
    "Isso pode ser feito da seguinte forma:"
   ]
  },
  {
   "cell_type": "code",
   "execution_count": null,
   "metadata": {},
   "outputs": [],
   "source": [
    "runtime_meta = {\n",
    "    clientWML.runtimes.ConfigurationMetaNames.NAME: \"my_custom_wml_runtime_1\",\n",
    "    clientWML.runtimes.ConfigurationMetaNames.DESCRIPTION: \"A Python runtime with custom sklearn Transforms\",\n",
    "    clientWML.runtimes.ConfigurationMetaNames.PLATFORM: {\n",
    "        \"name\": \"python\",\n",
    "        \"version\": \"3.6\"\n",
    "    },\n",
    "    clientWML.runtimes.ConfigurationMetaNames.LIBRARIES_UIDS: [ custom_package_uid ]\n",
    "}\n",
    "runtime_details = clientWML.runtimes.store( runtime_meta )\n",
    "custom_runtime_uid = clientWML.runtimes.get_uid( runtime_details )\n",
    "\n",
    "print(\"\\n Detalhes do runtime armazenado:\")\n",
    "print(json.dumps(runtime_details, indent=4))"
   ]
  },
  {
   "cell_type": "code",
   "execution_count": null,
   "metadata": {},
   "outputs": [],
   "source": [
    "# Listando todos runtimes armazenados no seu WML:\n",
    "clientWML.runtimes.list()"
   ]
  },
  {
   "cell_type": "markdown",
   "metadata": {},
   "source": [
    "#### Criando uma nova definição de Pipeline personalizada no WML\n",
    "\n",
    "Finalmente iremos criar uma definição (metadados) para a nossa Pipeline ser hospedada no WML.\n",
    "\n",
    "Definimos como parâmetros um nome para o artefato e o ID do runtime criado anteriormente."
   ]
  },
  {
   "cell_type": "code",
   "execution_count": null,
   "metadata": {},
   "outputs": [],
   "source": [
    "model_meta = {\n",
    "    clientWML.repository.ModelMetaNames.NAME: 'desafio-2-mbtc2020-pipeline-1',\n",
    "    clientWML.repository.ModelMetaNames.DESCRIPTION: \"my pipeline for submission\",\n",
    "    clientWML.repository.ModelMetaNames.RUNTIME_UID: custom_runtime_uid\n",
    "}"
   ]
  },
  {
   "cell_type": "markdown",
   "metadata": {},
   "source": [
    "Em seguida chamamos o método para armazenar a nova definição:"
   ]
  },
  {
   "cell_type": "code",
   "execution_count": null,
   "metadata": {},
   "outputs": [],
   "source": [
    "# Função para armazenar uma definição de Pipeline no WML\n",
    "stored_model_details = clientWML.repository.store_model(\n",
    "    model=my_pipeline,  # `my_pipeline` é a variável criada anteriormente e contém nossa Pipeline já treinada :)\n",
    "    meta_props=model_meta,  # Metadados definidos na célula anterior\n",
    "    training_data=None  # Não altere esse parâmetro\n",
    ")\n",
    "\n",
    "print(\"\\n Lista de artefatos armazenados no WML:\")\n",
    "clientWML.repository.list()\n",
    "\n",
    "# Detalhes do modelo hospedado no Watson Machine Learning\n",
    "print(\"\\n Metadados do modelo armazenado:\")\n",
    "print(json.dumps(stored_model_details, indent=4))"
   ]
  },
  {
   "cell_type": "markdown",
   "metadata": {},
   "source": [
    "#### Realizando o deployment do seu modelo para consumo imediato por outras aplicações"
   ]
  },
  {
   "cell_type": "code",
   "execution_count": null,
   "metadata": {},
   "outputs": [],
   "source": [
    "# O deployment do modelo é finalmente realizado por meio do método ``deployments.create()``\n",
    "\n",
    "model_deployment_details = clientWML.deployments.create(\n",
    "    artifact_uid=stored_model_details[\"metadata\"][\"guid\"],  # Não altere esse parâmetro\n",
    "    name=\"desafio-2-mbtc2020-deployment-1\",\n",
    "    description=\"Solução do desafio 2 - MBTC\",\n",
    "    asynchronous=False,  # Não altere esse parâmetro\n",
    "    deployment_type='online',  # Não altere esse parâmetro\n",
    "    deployment_format='Core ML',  # Não altere esse parâmetro\n",
    "    meta_props=model_meta  # Não altere esse parâmetro\n",
    ")"
   ]
  },
  {
   "cell_type": "markdown",
   "metadata": {},
   "source": [
    "#### Testando um modelo hospedado no Watson Machine Learning"
   ]
  },
  {
   "cell_type": "code",
   "execution_count": null,
   "metadata": {},
   "outputs": [],
   "source": [
    "# Recuperando a URL endpoint do modelo hospedado na célula anterior\n",
    "\n",
    "model_endpoint_url = clientWML.deployments.get_scoring_url(model_deployment_details)\n",
    "print(\"A URL de chamada da sua API é: {}\".format(model_endpoint_url))"
   ]
  },
  {
   "cell_type": "markdown",
   "metadata": {},
   "source": [
    "### ATENÇÃO: Você irá precisar da URL acima para submeter seu modelo :)"
   ]
  },
  {
   "cell_type": "code",
   "execution_count": null,
   "metadata": {},
   "outputs": [],
   "source": [
    "# Detalhes do deployment realizado\n",
    "\n",
    "deployment_details = clientWML.deployments.get_details(\n",
    "    deployment_uid=model_deployment_details[\"metadata\"][\"guid\"]  # esse é o ID do seu deployment!\n",
    ")\n",
    "\n",
    "print(\"Metadados do deployment realizado: \\n\")\n",
    "print(json.dumps(deployment_details, indent=4))"
   ]
  },
  {
   "cell_type": "markdown",
   "metadata": {},
   "source": [
    "### Realizando uma chamada de API para seu modelo armazenado no WML"
   ]
  },
  {
   "cell_type": "code",
   "execution_count": null,
   "metadata": {
    "scrolled": false
   },
   "outputs": [],
   "source": [
    "scoring_payload = {\n",
    "    'fields': [\n",
    "        \"MATRICULA\", \"NOME\", 'REPROVACOES_DE', 'REPROVACOES_EM', \"REPROVACOES_MF\", \"REPROVACOES_GO\",\n",
    "        \"NOTA_DE\", \"NOTA_EM\", \"NOTA_MF\", \"NOTA_GO\",\n",
    "        \"INGLES\", \"H_AULA_PRES\", \"TAREFAS_ONLINE\", \"FALTAS\", \n",
    "    ],\n",
    "    'values': [\n",
    "        [\n",
    "            513949,\"Marli Quésia de Oliveira\",1,1,1,1,4.3,4.0,3.1,4.9,0,3,4,3,\n",
    "        ]\n",
    "    ]\n",
    "}\n",
    "\n",
    "print(\"\\n Payload de dados a ser classificada:\")\n",
    "print(json.dumps(scoring_payload, indent=4))"
   ]
  },
  {
   "cell_type": "code",
   "execution_count": null,
   "metadata": {},
   "outputs": [],
   "source": [
    "result = clientWML.deployments.score(\n",
    "    model_endpoint_url,\n",
    "    scoring_payload\n",
    ")\n",
    "\n",
    "print(\"\\n Resultados:\")\n",
    "print(json.dumps(result, indent=4))"
   ]
  },
  {
   "cell_type": "markdown",
   "metadata": {},
   "source": [
    "<hr>\n",
    "\n",
    "## Parabéns! \n",
    "\n",
    "Se tudo foi executado sem erros, você já tem um classificador baseado em machine learning encapsulado como uma API REST!\n",
    "\n",
    "Para testar a sua solução integrada com um assistente virtual e realizar a submissão, acesse a página:\n",
    "\n",
    "# https://uninassau.maratona.dev\n",
    "\n",
    "Você irá precisar da endpoint url do seu modelo e das credenciais do WML :)"
   ]
  },
  {
   "cell_type": "code",
   "execution_count": 32,
   "metadata": {},
   "outputs": [],
   "source": [
    "a = pd.DataFrame(X_test)"
   ]
  },
  {
   "cell_type": "code",
   "execution_count": 33,
   "metadata": {},
   "outputs": [
    {
     "data": {
      "text/html": [
       "<div>\n",
       "<style scoped>\n",
       "    .dataframe tbody tr th:only-of-type {\n",
       "        vertical-align: middle;\n",
       "    }\n",
       "\n",
       "    .dataframe tbody tr th {\n",
       "        vertical-align: top;\n",
       "    }\n",
       "\n",
       "    .dataframe thead th {\n",
       "        text-align: right;\n",
       "    }\n",
       "</style>\n",
       "<table border=\"1\" class=\"dataframe\">\n",
       "  <thead>\n",
       "    <tr style=\"text-align: right;\">\n",
       "      <th></th>\n",
       "      <th>MATRICULA</th>\n",
       "      <th>NOME</th>\n",
       "      <th>REPROVACOES_DE</th>\n",
       "      <th>REPROVACOES_EM</th>\n",
       "      <th>REPROVACOES_MF</th>\n",
       "      <th>REPROVACOES_GO</th>\n",
       "      <th>NOTA_DE</th>\n",
       "      <th>NOTA_EM</th>\n",
       "      <th>NOTA_MF</th>\n",
       "      <th>NOTA_GO</th>\n",
       "      <th>INGLES</th>\n",
       "      <th>H_AULA_PRES</th>\n",
       "      <th>TAREFAS_ONLINE</th>\n",
       "      <th>FALTAS</th>\n",
       "    </tr>\n",
       "  </thead>\n",
       "  <tbody>\n",
       "    <tr>\n",
       "      <th>5414</th>\n",
       "      <td>542158</td>\n",
       "      <td>Isabel Carolina de Padilha</td>\n",
       "      <td>0</td>\n",
       "      <td>0</td>\n",
       "      <td>0</td>\n",
       "      <td>0</td>\n",
       "      <td>5.9</td>\n",
       "      <td>5.4</td>\n",
       "      <td>4.6</td>\n",
       "      <td>4.9</td>\n",
       "      <td>1.0</td>\n",
       "      <td>0</td>\n",
       "      <td>1</td>\n",
       "      <td>6</td>\n",
       "    </tr>\n",
       "    <tr>\n",
       "      <th>7475</th>\n",
       "      <td>227579</td>\n",
       "      <td>Roger Gustavo Bahia de Leite</td>\n",
       "      <td>0</td>\n",
       "      <td>0</td>\n",
       "      <td>1</td>\n",
       "      <td>1</td>\n",
       "      <td>7.1</td>\n",
       "      <td>6.8</td>\n",
       "      <td>0.0</td>\n",
       "      <td>0.0</td>\n",
       "      <td>NaN</td>\n",
       "      <td>5</td>\n",
       "      <td>6</td>\n",
       "      <td>2</td>\n",
       "    </tr>\n",
       "    <tr>\n",
       "      <th>17254</th>\n",
       "      <td>375737</td>\n",
       "      <td>Leila Ezry</td>\n",
       "      <td>1</td>\n",
       "      <td>1</td>\n",
       "      <td>3</td>\n",
       "      <td>1</td>\n",
       "      <td>0.0</td>\n",
       "      <td>0.0</td>\n",
       "      <td>0.0</td>\n",
       "      <td>0.0</td>\n",
       "      <td>NaN</td>\n",
       "      <td>2</td>\n",
       "      <td>2</td>\n",
       "      <td>3</td>\n",
       "    </tr>\n",
       "    <tr>\n",
       "      <th>1716</th>\n",
       "      <td>711840</td>\n",
       "      <td>Rodrigo Saulo Prates da Silva</td>\n",
       "      <td>0</td>\n",
       "      <td>0</td>\n",
       "      <td>0</td>\n",
       "      <td>0</td>\n",
       "      <td>6.6</td>\n",
       "      <td>6.7</td>\n",
       "      <td>5.1</td>\n",
       "      <td>NaN</td>\n",
       "      <td>1.0</td>\n",
       "      <td>3</td>\n",
       "      <td>2</td>\n",
       "      <td>6</td>\n",
       "    </tr>\n",
       "    <tr>\n",
       "      <th>18538</th>\n",
       "      <td>451934</td>\n",
       "      <td>Otávio Ijaolman Osveorniman Júnior</td>\n",
       "      <td>0</td>\n",
       "      <td>0</td>\n",
       "      <td>0</td>\n",
       "      <td>0</td>\n",
       "      <td>5.8</td>\n",
       "      <td>6.1</td>\n",
       "      <td>5.4</td>\n",
       "      <td>5.0</td>\n",
       "      <td>0.0</td>\n",
       "      <td>9</td>\n",
       "      <td>2</td>\n",
       "      <td>6</td>\n",
       "    </tr>\n",
       "    <tr>\n",
       "      <th>...</th>\n",
       "      <td>...</td>\n",
       "      <td>...</td>\n",
       "      <td>...</td>\n",
       "      <td>...</td>\n",
       "      <td>...</td>\n",
       "      <td>...</td>\n",
       "      <td>...</td>\n",
       "      <td>...</td>\n",
       "      <td>...</td>\n",
       "      <td>...</td>\n",
       "      <td>...</td>\n",
       "      <td>...</td>\n",
       "      <td>...</td>\n",
       "      <td>...</td>\n",
       "    </tr>\n",
       "    <tr>\n",
       "      <th>6219</th>\n",
       "      <td>913693</td>\n",
       "      <td>Ney Manuel de Bragança Quiazi</td>\n",
       "      <td>0</td>\n",
       "      <td>0</td>\n",
       "      <td>0</td>\n",
       "      <td>0</td>\n",
       "      <td>6.5</td>\n",
       "      <td>6.1</td>\n",
       "      <td>5.6</td>\n",
       "      <td>NaN</td>\n",
       "      <td>0.0</td>\n",
       "      <td>3</td>\n",
       "      <td>5</td>\n",
       "      <td>3</td>\n",
       "    </tr>\n",
       "    <tr>\n",
       "      <th>16757</th>\n",
       "      <td>994645</td>\n",
       "      <td>Ana de Madureira</td>\n",
       "      <td>0</td>\n",
       "      <td>0</td>\n",
       "      <td>0</td>\n",
       "      <td>0</td>\n",
       "      <td>5.4</td>\n",
       "      <td>4.8</td>\n",
       "      <td>4.5</td>\n",
       "      <td>NaN</td>\n",
       "      <td>NaN</td>\n",
       "      <td>5</td>\n",
       "      <td>5</td>\n",
       "      <td>5</td>\n",
       "    </tr>\n",
       "    <tr>\n",
       "      <th>3700</th>\n",
       "      <td>627766</td>\n",
       "      <td>Cibele Mikaella da Silva</td>\n",
       "      <td>1</td>\n",
       "      <td>1</td>\n",
       "      <td>1</td>\n",
       "      <td>1</td>\n",
       "      <td>0.0</td>\n",
       "      <td>0.0</td>\n",
       "      <td>0.0</td>\n",
       "      <td>NaN</td>\n",
       "      <td>1.0</td>\n",
       "      <td>7</td>\n",
       "      <td>4</td>\n",
       "      <td>5</td>\n",
       "    </tr>\n",
       "    <tr>\n",
       "      <th>1996</th>\n",
       "      <td>446708</td>\n",
       "      <td>Wanda Pabamo Crornasfulã</td>\n",
       "      <td>0</td>\n",
       "      <td>0</td>\n",
       "      <td>0</td>\n",
       "      <td>0</td>\n",
       "      <td>6.4</td>\n",
       "      <td>6.4</td>\n",
       "      <td>4.6</td>\n",
       "      <td>6.6</td>\n",
       "      <td>1.0</td>\n",
       "      <td>3</td>\n",
       "      <td>0</td>\n",
       "      <td>3</td>\n",
       "    </tr>\n",
       "    <tr>\n",
       "      <th>2148</th>\n",
       "      <td>203235</td>\n",
       "      <td>Bento dos Santos</td>\n",
       "      <td>0</td>\n",
       "      <td>0</td>\n",
       "      <td>0</td>\n",
       "      <td>0</td>\n",
       "      <td>6.5</td>\n",
       "      <td>6.8</td>\n",
       "      <td>7.5</td>\n",
       "      <td>NaN</td>\n",
       "      <td>0.0</td>\n",
       "      <td>2</td>\n",
       "      <td>2</td>\n",
       "      <td>6</td>\n",
       "    </tr>\n",
       "  </tbody>\n",
       "</table>\n",
       "<p>2000 rows × 14 columns</p>\n",
       "</div>"
      ],
      "text/plain": [
       "       MATRICULA                                NOME  REPROVACOES_DE  \\\n",
       "5414      542158          Isabel Carolina de Padilha               0   \n",
       "7475      227579        Roger Gustavo Bahia de Leite               0   \n",
       "17254     375737                          Leila Ezry               1   \n",
       "1716      711840       Rodrigo Saulo Prates da Silva               0   \n",
       "18538     451934  Otávio Ijaolman Osveorniman Júnior               0   \n",
       "...          ...                                 ...             ...   \n",
       "6219      913693       Ney Manuel de Bragança Quiazi               0   \n",
       "16757     994645                    Ana de Madureira               0   \n",
       "3700      627766            Cibele Mikaella da Silva               1   \n",
       "1996      446708            Wanda Pabamo Crornasfulã               0   \n",
       "2148      203235                    Bento dos Santos               0   \n",
       "\n",
       "       REPROVACOES_EM  REPROVACOES_MF  REPROVACOES_GO  NOTA_DE  NOTA_EM  \\\n",
       "5414                0               0               0      5.9      5.4   \n",
       "7475                0               1               1      7.1      6.8   \n",
       "17254               1               3               1      0.0      0.0   \n",
       "1716                0               0               0      6.6      6.7   \n",
       "18538               0               0               0      5.8      6.1   \n",
       "...               ...             ...             ...      ...      ...   \n",
       "6219                0               0               0      6.5      6.1   \n",
       "16757               0               0               0      5.4      4.8   \n",
       "3700                1               1               1      0.0      0.0   \n",
       "1996                0               0               0      6.4      6.4   \n",
       "2148                0               0               0      6.5      6.8   \n",
       "\n",
       "       NOTA_MF  NOTA_GO  INGLES  H_AULA_PRES  TAREFAS_ONLINE  FALTAS  \n",
       "5414       4.6      4.9     1.0            0               1       6  \n",
       "7475       0.0      0.0     NaN            5               6       2  \n",
       "17254      0.0      0.0     NaN            2               2       3  \n",
       "1716       5.1      NaN     1.0            3               2       6  \n",
       "18538      5.4      5.0     0.0            9               2       6  \n",
       "...        ...      ...     ...          ...             ...     ...  \n",
       "6219       5.6      NaN     0.0            3               5       3  \n",
       "16757      4.5      NaN     NaN            5               5       5  \n",
       "3700       0.0      NaN     1.0            7               4       5  \n",
       "1996       4.6      6.6     1.0            3               0       3  \n",
       "2148       7.5      NaN     0.0            2               2       6  \n",
       "\n",
       "[2000 rows x 14 columns]"
      ]
     },
     "execution_count": 33,
     "metadata": {},
     "output_type": "execute_result"
    }
   ],
   "source": []
  },
  {
   "cell_type": "code",
   "execution_count": null,
   "metadata": {},
   "outputs": [],
   "source": []
  }
 ],
 "metadata": {
  "kernelspec": {
   "display_name": "Python 3",
   "language": "python",
   "name": "python3"
  },
  "language_info": {
   "codemirror_mode": {
    "name": "ipython",
    "version": 3
   },
   "file_extension": ".py",
   "mimetype": "text/x-python",
   "name": "python",
   "nbconvert_exporter": "python",
   "pygments_lexer": "ipython3",
   "version": "3.6.9"
  }
 },
 "nbformat": 4,
 "nbformat_minor": 1
}
